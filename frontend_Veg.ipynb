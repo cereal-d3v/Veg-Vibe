{
  "nbformat": 4,
  "nbformat_minor": 0,
  "metadata": {
    "colab": {
      "provenance": [],
      "authorship_tag": "ABX9TyMfG6G9X2o9qpzZ/hYiCnm3",
      "include_colab_link": true
    },
    "kernelspec": {
      "name": "python3",
      "display_name": "Python 3"
    },
    "language_info": {
      "name": "python"
    }
  },
  "cells": [
    {
      "cell_type": "markdown",
      "metadata": {
        "id": "view-in-github",
        "colab_type": "text"
      },
      "source": [
        "<a href=\"https://colab.research.google.com/github/cereal-d3v/Veg-Vibe/blob/main/frontend_Veg.ipynb\" target=\"_parent\"><img src=\"https://colab.research.google.com/assets/colab-badge.svg\" alt=\"Open In Colab\"/></a>"
      ]
    },
    {
      "cell_type": "code",
      "execution_count": 1,
      "metadata": {
        "colab": {
          "base_uri": "https://localhost:8080/"
        },
        "id": "SjJMH9FjCzgX",
        "outputId": "612136cc-6bf6-4e22-faa4-7ae51930961c"
      },
      "outputs": [
        {
          "output_type": "stream",
          "name": "stdout",
          "text": [
            "Path to dataset files: /kaggle/input/vegan-recipies-dataset\n"
          ]
        }
      ],
      "source": [
        "# Install dependencies as needed:\n",
        "! pip install kagglehub[pandas-datasets] --quiet\n",
        "import kagglehub\n",
        "from kagglehub import KaggleDatasetAdapter\n",
        "\n",
        "\n",
        "# Download latest version\n",
        "path = kagglehub.dataset_download(\"akeshkumarhp/vegan-recipies-dataset\")\n",
        "\n",
        "print(\"Path to dataset files:\", path)"
      ]
    },
    {
      "cell_type": "code",
      "metadata": {
        "colab": {
          "base_uri": "https://localhost:8080/"
        },
        "id": "6fe0b747",
        "outputId": "71b62328-5798-4e73-e278-463758cb335a"
      },
      "source": [
        "from google.colab import userdata\n",
        "\n",
        "try:\n",
        "    kaggle_secret = userdata.get('kaggle.json')\n",
        "    if kaggle_secret:\n",
        "        print(\"KAGGLE_JSON secret found.\")\n",
        "    else:\n",
        "        print(\"KAGGLE_JSON secret not found or is empty.\")\n",
        "except Exception as e:\n",
        "    print(f\"An error occurred while accessing KAGGLE_JSON secret: {e}\")"
      ],
      "execution_count": 3,
      "outputs": [
        {
          "output_type": "stream",
          "name": "stdout",
          "text": [
            "An error occurred while accessing KAGGLE_JSON secret: Secret kaggle.json does not exist.\n"
          ]
        }
      ]
    },
    {
      "cell_type": "code",
      "source": [
        "ls '/kaggle/input/vegan-recipies-dataset/'"
      ],
      "metadata": {
        "colab": {
          "base_uri": "https://localhost:8080/"
        },
        "id": "Z2NwQXBpqJDL",
        "outputId": "f707f3ee-60c6-44be-b45d-ca6b5d7115c1"
      },
      "execution_count": 9,
      "outputs": [
        {
          "output_type": "stream",
          "name": "stdout",
          "text": [
            "data.csv\n"
          ]
        }
      ]
    },
    {
      "cell_type": "code",
      "source": [
        "path = '/kaggle/input/vegan-recipies-dataset/data.csv'"
      ],
      "metadata": {
        "id": "MGaTQLA4nJsQ"
      },
      "execution_count": 10,
      "outputs": []
    },
    {
      "cell_type": "code",
      "source": [
        "import pandas as pd\n",
        "# Load the latest version\n",
        "df = pd.read_csv(path)\n",
        "\n",
        "print(\"First 5 records:\")\n",
        "df.head()"
      ],
      "metadata": {
        "colab": {
          "base_uri": "https://localhost:8080/",
          "height": 583
        },
        "id": "9DTwYxWAml-j",
        "outputId": "3c635424-c79b-476e-c2ad-2b6a5c4514dd"
      },
      "execution_count": 11,
      "outputs": [
        {
          "output_type": "stream",
          "name": "stdout",
          "text": [
            "First 5 records:\n"
          ]
        },
        {
          "output_type": "execute_result",
          "data": {
            "text/plain": [
              "                                  name                 collection  \\\n",
              "0              Chickpea & Potato Curry  collection/vegan-recipes/   \n",
              "1  Crispy Tofu with Black Pepper Sauce  collection/vegan-recipes/   \n",
              "2          Over-the-Rainbow Minestrone  collection/vegan-recipes/   \n",
              "3  Simple Vegetarian Slow-Cooked Beans  collection/vegan-recipes/   \n",
              "4          Vegetarian Black Bean Pasta  collection/vegan-recipes/   \n",
              "\n",
              "   recipie_collection_idx                                              image  \\\n",
              "0                       1  https://www.tasteofhome.com/wp-content/uploads...   \n",
              "1                       2  https://www.tasteofhome.com/wp-content/uploads...   \n",
              "2                       3  https://www.tasteofhome.com/wp-content/uploads...   \n",
              "3                       4  https://www.tasteofhome.com/wp-content/uploads...   \n",
              "4                       5  https://www.tasteofhome.com/wp-content/uploads...   \n",
              "\n",
              "                                        descripition  \\\n",
              "0  \\n\\n1\\n/\\n92\\n\\n\\n\\n\\n\\n\\n\\nChickpea & Potato ...   \n",
              "1  \\n\\n2\\n/\\n92\\n\\n\\n\\n\\n\\n\\n\\n\\nCrispy Tofu with...   \n",
              "2  \\n\\n3\\n/\\n92\\n\\n\\n\\n\\n\\n\\n\\nOver-the-Rainbow M...   \n",
              "3  \\n\\n4\\n/\\n92\\n\\n\\n\\n\\n\\n\\n\\nTaste of HomeSimpl...   \n",
              "4  \\n\\n5\\n/\\n92\\n\\n\\n\\n\\n\\n\\n\\nTaste of HomeVeget...   \n",
              "\n",
              "                                         ingredients  \\\n",
              "0  ['1 tablespoon canola oil', '1 medium onion, c...   \n",
              "1  ['2 tablespoons reduced-sodium soy sauce', '2 ...   \n",
              "2  ['1/2 pound Swiss chard', '2 tablespoons olive...   \n",
              "3  ['4 cans (15-1/2 ounces each) great northern b...   \n",
              "4  ['9 ounces uncooked whole wheat fettuccine', '...   \n",
              "\n",
              "                                               steps  \\\n",
              "0  ['In a large skillet, heat oil over medium-hig...   \n",
              "1  ['Mix the first 4 ingredients. Mince white par...   \n",
              "2  ['Cut stems from chard; chop stems and leaves ...   \n",
              "3  ['In a 3-qt. slow cooker, combine the first 7 ...   \n",
              "4  ['Cook fettuccine according to package directi...   \n",
              "\n",
              "                                          Neutretion  \n",
              "0  <p>1-1/4 cups chickpea mixture: 240 calories, ...  \n",
              "1  <p>1 cup: 316 calories, 24g fat (2g saturated ...  \n",
              "2  <p>1-1/2 cups: 231 calories, 7g fat (1g satura...  \n",
              "3  <p>3/4 cup: 229 calories, 3g fat (0 saturated ...  \n",
              "4  <p>1-1/4 cups: 255 calories, 3g fat (0 saturat...  "
            ],
            "text/html": [
              "\n",
              "  <div id=\"df-10aa274f-e3ba-4492-9a00-7020fa7253ce\" class=\"colab-df-container\">\n",
              "    <div>\n",
              "<style scoped>\n",
              "    .dataframe tbody tr th:only-of-type {\n",
              "        vertical-align: middle;\n",
              "    }\n",
              "\n",
              "    .dataframe tbody tr th {\n",
              "        vertical-align: top;\n",
              "    }\n",
              "\n",
              "    .dataframe thead th {\n",
              "        text-align: right;\n",
              "    }\n",
              "</style>\n",
              "<table border=\"1\" class=\"dataframe\">\n",
              "  <thead>\n",
              "    <tr style=\"text-align: right;\">\n",
              "      <th></th>\n",
              "      <th>name</th>\n",
              "      <th>collection</th>\n",
              "      <th>recipie_collection_idx</th>\n",
              "      <th>image</th>\n",
              "      <th>descripition</th>\n",
              "      <th>ingredients</th>\n",
              "      <th>steps</th>\n",
              "      <th>Neutretion</th>\n",
              "    </tr>\n",
              "  </thead>\n",
              "  <tbody>\n",
              "    <tr>\n",
              "      <th>0</th>\n",
              "      <td>Chickpea &amp; Potato Curry</td>\n",
              "      <td>collection/vegan-recipes/</td>\n",
              "      <td>1</td>\n",
              "      <td>https://www.tasteofhome.com/wp-content/uploads...</td>\n",
              "      <td>\\n\\n1\\n/\\n92\\n\\n\\n\\n\\n\\n\\n\\nChickpea &amp; Potato ...</td>\n",
              "      <td>['1 tablespoon canola oil', '1 medium onion, c...</td>\n",
              "      <td>['In a large skillet, heat oil over medium-hig...</td>\n",
              "      <td>&lt;p&gt;1-1/4 cups chickpea mixture: 240 calories, ...</td>\n",
              "    </tr>\n",
              "    <tr>\n",
              "      <th>1</th>\n",
              "      <td>Crispy Tofu with Black Pepper Sauce</td>\n",
              "      <td>collection/vegan-recipes/</td>\n",
              "      <td>2</td>\n",
              "      <td>https://www.tasteofhome.com/wp-content/uploads...</td>\n",
              "      <td>\\n\\n2\\n/\\n92\\n\\n\\n\\n\\n\\n\\n\\n\\nCrispy Tofu with...</td>\n",
              "      <td>['2 tablespoons reduced-sodium soy sauce', '2 ...</td>\n",
              "      <td>['Mix the first 4 ingredients. Mince white par...</td>\n",
              "      <td>&lt;p&gt;1 cup: 316 calories, 24g fat (2g saturated ...</td>\n",
              "    </tr>\n",
              "    <tr>\n",
              "      <th>2</th>\n",
              "      <td>Over-the-Rainbow Minestrone</td>\n",
              "      <td>collection/vegan-recipes/</td>\n",
              "      <td>3</td>\n",
              "      <td>https://www.tasteofhome.com/wp-content/uploads...</td>\n",
              "      <td>\\n\\n3\\n/\\n92\\n\\n\\n\\n\\n\\n\\n\\nOver-the-Rainbow M...</td>\n",
              "      <td>['1/2 pound Swiss chard', '2 tablespoons olive...</td>\n",
              "      <td>['Cut stems from chard; chop stems and leaves ...</td>\n",
              "      <td>&lt;p&gt;1-1/2 cups: 231 calories, 7g fat (1g satura...</td>\n",
              "    </tr>\n",
              "    <tr>\n",
              "      <th>3</th>\n",
              "      <td>Simple Vegetarian Slow-Cooked Beans</td>\n",
              "      <td>collection/vegan-recipes/</td>\n",
              "      <td>4</td>\n",
              "      <td>https://www.tasteofhome.com/wp-content/uploads...</td>\n",
              "      <td>\\n\\n4\\n/\\n92\\n\\n\\n\\n\\n\\n\\n\\nTaste of HomeSimpl...</td>\n",
              "      <td>['4 cans (15-1/2 ounces each) great northern b...</td>\n",
              "      <td>['In a 3-qt. slow cooker, combine the first 7 ...</td>\n",
              "      <td>&lt;p&gt;3/4 cup: 229 calories, 3g fat (0 saturated ...</td>\n",
              "    </tr>\n",
              "    <tr>\n",
              "      <th>4</th>\n",
              "      <td>Vegetarian Black Bean Pasta</td>\n",
              "      <td>collection/vegan-recipes/</td>\n",
              "      <td>5</td>\n",
              "      <td>https://www.tasteofhome.com/wp-content/uploads...</td>\n",
              "      <td>\\n\\n5\\n/\\n92\\n\\n\\n\\n\\n\\n\\n\\nTaste of HomeVeget...</td>\n",
              "      <td>['9 ounces uncooked whole wheat fettuccine', '...</td>\n",
              "      <td>['Cook fettuccine according to package directi...</td>\n",
              "      <td>&lt;p&gt;1-1/4 cups: 255 calories, 3g fat (0 saturat...</td>\n",
              "    </tr>\n",
              "  </tbody>\n",
              "</table>\n",
              "</div>\n",
              "    <div class=\"colab-df-buttons\">\n",
              "\n",
              "  <div class=\"colab-df-container\">\n",
              "    <button class=\"colab-df-convert\" onclick=\"convertToInteractive('df-10aa274f-e3ba-4492-9a00-7020fa7253ce')\"\n",
              "            title=\"Convert this dataframe to an interactive table.\"\n",
              "            style=\"display:none;\">\n",
              "\n",
              "  <svg xmlns=\"http://www.w3.org/2000/svg\" height=\"24px\" viewBox=\"0 -960 960 960\">\n",
              "    <path d=\"M120-120v-720h720v720H120Zm60-500h600v-160H180v160Zm220 220h160v-160H400v160Zm0 220h160v-160H400v160ZM180-400h160v-160H180v160Zm440 0h160v-160H620v160ZM180-180h160v-160H180v160Zm440 0h160v-160H620v160Z\"/>\n",
              "  </svg>\n",
              "    </button>\n",
              "\n",
              "  <style>\n",
              "    .colab-df-container {\n",
              "      display:flex;\n",
              "      gap: 12px;\n",
              "    }\n",
              "\n",
              "    .colab-df-convert {\n",
              "      background-color: #E8F0FE;\n",
              "      border: none;\n",
              "      border-radius: 50%;\n",
              "      cursor: pointer;\n",
              "      display: none;\n",
              "      fill: #1967D2;\n",
              "      height: 32px;\n",
              "      padding: 0 0 0 0;\n",
              "      width: 32px;\n",
              "    }\n",
              "\n",
              "    .colab-df-convert:hover {\n",
              "      background-color: #E2EBFA;\n",
              "      box-shadow: 0px 1px 2px rgba(60, 64, 67, 0.3), 0px 1px 3px 1px rgba(60, 64, 67, 0.15);\n",
              "      fill: #174EA6;\n",
              "    }\n",
              "\n",
              "    .colab-df-buttons div {\n",
              "      margin-bottom: 4px;\n",
              "    }\n",
              "\n",
              "    [theme=dark] .colab-df-convert {\n",
              "      background-color: #3B4455;\n",
              "      fill: #D2E3FC;\n",
              "    }\n",
              "\n",
              "    [theme=dark] .colab-df-convert:hover {\n",
              "      background-color: #434B5C;\n",
              "      box-shadow: 0px 1px 3px 1px rgba(0, 0, 0, 0.15);\n",
              "      filter: drop-shadow(0px 1px 2px rgba(0, 0, 0, 0.3));\n",
              "      fill: #FFFFFF;\n",
              "    }\n",
              "  </style>\n",
              "\n",
              "    <script>\n",
              "      const buttonEl =\n",
              "        document.querySelector('#df-10aa274f-e3ba-4492-9a00-7020fa7253ce button.colab-df-convert');\n",
              "      buttonEl.style.display =\n",
              "        google.colab.kernel.accessAllowed ? 'block' : 'none';\n",
              "\n",
              "      async function convertToInteractive(key) {\n",
              "        const element = document.querySelector('#df-10aa274f-e3ba-4492-9a00-7020fa7253ce');\n",
              "        const dataTable =\n",
              "          await google.colab.kernel.invokeFunction('convertToInteractive',\n",
              "                                                    [key], {});\n",
              "        if (!dataTable) return;\n",
              "\n",
              "        const docLinkHtml = 'Like what you see? Visit the ' +\n",
              "          '<a target=\"_blank\" href=https://colab.research.google.com/notebooks/data_table.ipynb>data table notebook</a>'\n",
              "          + ' to learn more about interactive tables.';\n",
              "        element.innerHTML = '';\n",
              "        dataTable['output_type'] = 'display_data';\n",
              "        await google.colab.output.renderOutput(dataTable, element);\n",
              "        const docLink = document.createElement('div');\n",
              "        docLink.innerHTML = docLinkHtml;\n",
              "        element.appendChild(docLink);\n",
              "      }\n",
              "    </script>\n",
              "  </div>\n",
              "\n",
              "\n",
              "    <div id=\"df-643c6dfb-ddbd-4038-8a3f-a3cef1227d35\">\n",
              "      <button class=\"colab-df-quickchart\" onclick=\"quickchart('df-643c6dfb-ddbd-4038-8a3f-a3cef1227d35')\"\n",
              "                title=\"Suggest charts\"\n",
              "                style=\"display:none;\">\n",
              "\n",
              "<svg xmlns=\"http://www.w3.org/2000/svg\" height=\"24px\"viewBox=\"0 0 24 24\"\n",
              "     width=\"24px\">\n",
              "    <g>\n",
              "        <path d=\"M19 3H5c-1.1 0-2 .9-2 2v14c0 1.1.9 2 2 2h14c1.1 0 2-.9 2-2V5c0-1.1-.9-2-2-2zM9 17H7v-7h2v7zm4 0h-2V7h2v10zm4 0h-2v-4h2v4z\"/>\n",
              "    </g>\n",
              "</svg>\n",
              "      </button>\n",
              "\n",
              "<style>\n",
              "  .colab-df-quickchart {\n",
              "      --bg-color: #E8F0FE;\n",
              "      --fill-color: #1967D2;\n",
              "      --hover-bg-color: #E2EBFA;\n",
              "      --hover-fill-color: #174EA6;\n",
              "      --disabled-fill-color: #AAA;\n",
              "      --disabled-bg-color: #DDD;\n",
              "  }\n",
              "\n",
              "  [theme=dark] .colab-df-quickchart {\n",
              "      --bg-color: #3B4455;\n",
              "      --fill-color: #D2E3FC;\n",
              "      --hover-bg-color: #434B5C;\n",
              "      --hover-fill-color: #FFFFFF;\n",
              "      --disabled-bg-color: #3B4455;\n",
              "      --disabled-fill-color: #666;\n",
              "  }\n",
              "\n",
              "  .colab-df-quickchart {\n",
              "    background-color: var(--bg-color);\n",
              "    border: none;\n",
              "    border-radius: 50%;\n",
              "    cursor: pointer;\n",
              "    display: none;\n",
              "    fill: var(--fill-color);\n",
              "    height: 32px;\n",
              "    padding: 0;\n",
              "    width: 32px;\n",
              "  }\n",
              "\n",
              "  .colab-df-quickchart:hover {\n",
              "    background-color: var(--hover-bg-color);\n",
              "    box-shadow: 0 1px 2px rgba(60, 64, 67, 0.3), 0 1px 3px 1px rgba(60, 64, 67, 0.15);\n",
              "    fill: var(--button-hover-fill-color);\n",
              "  }\n",
              "\n",
              "  .colab-df-quickchart-complete:disabled,\n",
              "  .colab-df-quickchart-complete:disabled:hover {\n",
              "    background-color: var(--disabled-bg-color);\n",
              "    fill: var(--disabled-fill-color);\n",
              "    box-shadow: none;\n",
              "  }\n",
              "\n",
              "  .colab-df-spinner {\n",
              "    border: 2px solid var(--fill-color);\n",
              "    border-color: transparent;\n",
              "    border-bottom-color: var(--fill-color);\n",
              "    animation:\n",
              "      spin 1s steps(1) infinite;\n",
              "  }\n",
              "\n",
              "  @keyframes spin {\n",
              "    0% {\n",
              "      border-color: transparent;\n",
              "      border-bottom-color: var(--fill-color);\n",
              "      border-left-color: var(--fill-color);\n",
              "    }\n",
              "    20% {\n",
              "      border-color: transparent;\n",
              "      border-left-color: var(--fill-color);\n",
              "      border-top-color: var(--fill-color);\n",
              "    }\n",
              "    30% {\n",
              "      border-color: transparent;\n",
              "      border-left-color: var(--fill-color);\n",
              "      border-top-color: var(--fill-color);\n",
              "      border-right-color: var(--fill-color);\n",
              "    }\n",
              "    40% {\n",
              "      border-color: transparent;\n",
              "      border-right-color: var(--fill-color);\n",
              "      border-top-color: var(--fill-color);\n",
              "    }\n",
              "    60% {\n",
              "      border-color: transparent;\n",
              "      border-right-color: var(--fill-color);\n",
              "    }\n",
              "    80% {\n",
              "      border-color: transparent;\n",
              "      border-right-color: var(--fill-color);\n",
              "      border-bottom-color: var(--fill-color);\n",
              "    }\n",
              "    90% {\n",
              "      border-color: transparent;\n",
              "      border-bottom-color: var(--fill-color);\n",
              "    }\n",
              "  }\n",
              "</style>\n",
              "\n",
              "      <script>\n",
              "        async function quickchart(key) {\n",
              "          const quickchartButtonEl =\n",
              "            document.querySelector('#' + key + ' button');\n",
              "          quickchartButtonEl.disabled = true;  // To prevent multiple clicks.\n",
              "          quickchartButtonEl.classList.add('colab-df-spinner');\n",
              "          try {\n",
              "            const charts = await google.colab.kernel.invokeFunction(\n",
              "                'suggestCharts', [key], {});\n",
              "          } catch (error) {\n",
              "            console.error('Error during call to suggestCharts:', error);\n",
              "          }\n",
              "          quickchartButtonEl.classList.remove('colab-df-spinner');\n",
              "          quickchartButtonEl.classList.add('colab-df-quickchart-complete');\n",
              "        }\n",
              "        (() => {\n",
              "          let quickchartButtonEl =\n",
              "            document.querySelector('#df-643c6dfb-ddbd-4038-8a3f-a3cef1227d35 button');\n",
              "          quickchartButtonEl.style.display =\n",
              "            google.colab.kernel.accessAllowed ? 'block' : 'none';\n",
              "        })();\n",
              "      </script>\n",
              "    </div>\n",
              "\n",
              "    </div>\n",
              "  </div>\n"
            ],
            "application/vnd.google.colaboratory.intrinsic+json": {
              "type": "dataframe",
              "variable_name": "df",
              "summary": "{\n  \"name\": \"df\",\n  \"rows\": 87,\n  \"fields\": [\n    {\n      \"column\": \"name\",\n      \"properties\": {\n        \"dtype\": \"string\",\n        \"num_unique_values\": 87,\n        \"samples\": [\n          \"Steamed Kale\",\n          \"Chickpea & Potato Curry\",\n          \"Edamame Corn Carrot Salad\"\n        ],\n        \"semantic_type\": \"\",\n        \"description\": \"\"\n      }\n    },\n    {\n      \"column\": \"collection\",\n      \"properties\": {\n        \"dtype\": \"category\",\n        \"num_unique_values\": 1,\n        \"samples\": [\n          \"collection/vegan-recipes/\"\n        ],\n        \"semantic_type\": \"\",\n        \"description\": \"\"\n      }\n    },\n    {\n      \"column\": \"recipie_collection_idx\",\n      \"properties\": {\n        \"dtype\": \"number\",\n        \"std\": 27,\n        \"min\": 1,\n        \"max\": 92,\n        \"num_unique_values\": 87,\n        \"samples\": [\n          82\n        ],\n        \"semantic_type\": \"\",\n        \"description\": \"\"\n      }\n    },\n    {\n      \"column\": \"image\",\n      \"properties\": {\n        \"dtype\": \"string\",\n        \"num_unique_values\": 86,\n        \"samples\": [\n          \"https://www.tasteofhome.com/wp-content/uploads/2018/01/exps39624_GHTJM17_39624_D02_07_7b_RMS-4.jpg\"\n        ],\n        \"semantic_type\": \"\",\n        \"description\": \"\"\n      }\n    },\n    {\n      \"column\": \"descripition\",\n      \"properties\": {\n        \"dtype\": \"string\",\n        \"num_unique_values\": 87,\n        \"samples\": [\n          \"\\n\\n82\\n/\\n92\\n\\n\\n\\n\\n\\n\\n\\nSteamed KaleWith this good-for-you steamed kale, it's easy to eat healthy and get out of the kitchen quick. A wonderful accompaniment to most any entree, it is packed with vitamins and is a snap to prepare. I use garlic, red pepper and balsamic vinegar for this side dish that keeps my family coming back for more! \\u2014Mary Bilyeu, Ann Arbor, MichiganGo to Recipe\\n\"\n        ],\n        \"semantic_type\": \"\",\n        \"description\": \"\"\n      }\n    },\n    {\n      \"column\": \"ingredients\",\n      \"properties\": {\n        \"dtype\": \"string\",\n        \"num_unique_values\": 87,\n        \"samples\": [\n          \"['1 bunch kale', '1 tablespoon olive oil', '3 garlic cloves, minced', '2/3 cup water', '1/4 teaspoon salt', '1/8 teaspoon crushed red pepper flakes', '1 tablespoon balsamic vinegar']\"\n        ],\n        \"semantic_type\": \"\",\n        \"description\": \"\"\n      }\n    },\n    {\n      \"column\": \"steps\",\n      \"properties\": {\n        \"dtype\": \"string\",\n        \"num_unique_values\": 87,\n        \"samples\": [\n          \"['Trim kale, discarding the thick ribs and stems. Chop leaves. In a Dutch oven, saute kale leaves in oil until wilted. Add garlic; cook 1 minute longer. ', '   Stir in the water, salt and pepper flakes. Bring to a boil. Reduce heat; cover and simmer for 20-25 minutes or until kale is tender. Remove from the heat; stir in vinegar.']\"\n        ],\n        \"semantic_type\": \"\",\n        \"description\": \"\"\n      }\n    },\n    {\n      \"column\": \"Neutretion\",\n      \"properties\": {\n        \"dtype\": \"string\",\n        \"num_unique_values\": 87,\n        \"samples\": [\n          \"<p>3/4 cup: 61 calories, 4g fat (1g saturated fat), 0 cholesterol, 171mg sodium, 6g carbohydrate (1g sugars, 1g fiber), 2g protein.  <b><b>Diabetic Exchanges</b>: </b>1 vegetable, 1/2 fat.</p>\"\n        ],\n        \"semantic_type\": \"\",\n        \"description\": \"\"\n      }\n    }\n  ]\n}"
            }
          },
          "metadata": {},
          "execution_count": 11
        }
      ]
    },
    {
      "cell_type": "markdown",
      "source": [
        "**Content-Based Recommender Skeleton**"
      ],
      "metadata": {
        "id": "vMH9B6AjoLXF"
      }
    },
    {
      "cell_type": "code",
      "source": [
        "!pip install -q gradio nltk scikit-learn pandas\n",
        "\n",
        "import pandas as pd\n",
        "import re\n",
        "import nltk\n",
        "import gradio as gr\n",
        "from sklearn.feature_extraction.text import TfidfVectorizer\n",
        "from sklearn.metrics.pairwise import linear_kernel\n",
        "\n",
        "nltk.download('stopwords')\n",
        "from nltk.corpus import stopwords\n",
        "stop_words = set(stopwords.words('english'))\n",
        "\n",
        "# Example vegan recipe data (replace with uploaded file later)\n",
        "data = {\n",
        "    \"title\": [\n",
        "        \"Vegan Mac and Cheese\",\n",
        "        \"Chickpea Salad\",\n",
        "        \"Tofu Stir Fry\",\n",
        "        \"Lentil Soup\",\n",
        "        \"Vegan Pancakes\"\n",
        "    ],\n",
        "    \"ingredients\": [\n",
        "        \"pasta, vegan cheese, almond milk, garlic, nutritional yeast\",\n",
        "        \"chickpeas, cucumber, tomato, olive oil, lemon juice\",\n",
        "        \"tofu, soy sauce, garlic, broccoli, bell pepper\",\n",
        "        \"lentils, carrots, celery, onion, garlic, vegetable broth\",\n",
        "        \"flour, almond milk, baking powder, maple syrup\"\n",
        "    ]\n",
        "}\n",
        "df = pd.DataFrame(data)\n",
        "\n",
        "def clean_text(text):\n",
        "    text = re.sub(r'\\d+', '', str(text))\n",
        "    text = re.sub(r'[^\\w\\s]', '', text).lower()\n",
        "    return ' '.join(word for word in text.split() if word not in stop_words)\n",
        "\n",
        "df['cleaned'] = df['ingredients'].apply(clean_text)\n",
        "tfidf = TfidfVectorizer()\n",
        "tfidf_matrix = tfidf.fit_transform(df['cleaned'])\n",
        "cosine_sim = linear_kernel(tfidf_matrix, tfidf_matrix)\n",
        "indices = pd.Series(df.index, index=df['title']).drop_duplicates()\n",
        "\n",
        "def get_recommendations(input_ingredients, topn=3):\n",
        "    cleaned_input = clean_text(input_ingredients)\n",
        "    input_vec = tfidf.transform([cleaned_input])\n",
        "    sim_scores = linear_kernel(input_vec, tfidf_matrix).flatten()\n",
        "    top_indices = sim_scores.argsort()[-topn:][::-1]\n",
        "    recs = df.iloc[top_indices][['title', 'ingredients']]\n",
        "    return recs.to_string(index=False)\n",
        "\n",
        "def chatbot_interface(user_input):\n",
        "    return f\"🍽️ Here are vegan recipes you can make:\\n\\n{get_recommendations(user_input)}\"\n",
        "\n",
        "gr.Interface(\n",
        "    fn=chatbot_interface,\n",
        "    inputs=gr.Textbox(label=\"Enter your available ingredients\"),\n",
        "    outputs=gr.Textbox(label=\"Recipe Suggestions\"),\n",
        "    title=\"🥬 Vegan Recipe Recommender\",\n",
        "    description=\"Input ingredients in your kitchen. Get custom vegan recipes!\"\n",
        ").launch()\n"
      ],
      "metadata": {
        "id": "vTialVmgDNSP",
        "colab": {
          "base_uri": "https://localhost:8080/",
          "height": 671
        },
        "outputId": "f0834acf-d67f-4e11-d56c-b4c8c479e424"
      },
      "execution_count": 12,
      "outputs": [
        {
          "output_type": "stream",
          "name": "stderr",
          "text": [
            "[nltk_data] Downloading package stopwords to /root/nltk_data...\n",
            "[nltk_data]   Unzipping corpora/stopwords.zip.\n"
          ]
        },
        {
          "output_type": "stream",
          "name": "stdout",
          "text": [
            "It looks like you are running Gradio on a hosted Jupyter notebook, which requires `share=True`. Automatically setting `share=True` (you can turn this off by setting `share=False` in `launch()` explicitly).\n",
            "\n",
            "Colab notebook detected. To show errors in colab notebook, set debug=True in launch()\n",
            "* Running on public URL: https://8a416eb4564caaccb8.gradio.live\n",
            "\n",
            "This share link expires in 1 week. For free permanent hosting and GPU upgrades, run `gradio deploy` from the terminal in the working directory to deploy to Hugging Face Spaces (https://huggingface.co/spaces)\n"
          ]
        },
        {
          "output_type": "display_data",
          "data": {
            "text/plain": [
              "<IPython.core.display.HTML object>"
            ],
            "text/html": [
              "<div><iframe src=\"https://8a416eb4564caaccb8.gradio.live\" width=\"100%\" height=\"500\" allow=\"autoplay; camera; microphone; clipboard-read; clipboard-write;\" frameborder=\"0\" allowfullscreen></iframe></div>"
            ]
          },
          "metadata": {}
        },
        {
          "output_type": "execute_result",
          "data": {
            "text/plain": []
          },
          "metadata": {},
          "execution_count": 12
        }
      ]
    }
  ]
}